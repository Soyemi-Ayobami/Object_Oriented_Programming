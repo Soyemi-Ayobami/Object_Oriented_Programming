{
 "cells": [
  {
   "cell_type": "code",
   "execution_count": 10,
   "id": "c0913bb1",
   "metadata": {},
   "outputs": [],
   "source": [
    "class Account:\n",
    "    def __init__(self, account_number, account_balance, account_holder, account_deposit):\n",
    "        self.account_number = account_number\n",
    "        self.account_balance = account_balance\n",
    "        self.account_holder = account_holder\n",
    "        self.account_deposit = account_deposit\n",
    "        \n",
    "    \n",
    "    def deposit(self, amount):\n",
    "        self.account_balance += amount\n",
    "        \n",
    "    def withdraw(self, amount):\n",
    "        if self.account_balance >= amount:\n",
    "            self.account_balance -= amount\n",
    "        else:\n",
    "            print('Insufficient balance,')\n",
    "            \n",
    "    def check_balance(self):\n",
    "        return self.account_balance"
   ]
  },
  {
   "cell_type": "code",
   "execution_count": 11,
   "id": "17865050",
   "metadata": {},
   "outputs": [],
   "source": [
    "account_1 = Account('208114668', 89605.0, 'soyemi', 400)"
   ]
  },
  {
   "cell_type": "code",
   "execution_count": 14,
   "id": "92f74194",
   "metadata": {},
   "outputs": [
    {
     "name": "stdout",
     "output_type": "stream",
     "text": [
      "Current balance: 93905.0\n"
     ]
    }
   ],
   "source": [
    "account_1.deposit(4000.0)\n",
    "print(\"Current balance:\", account_1.check_balance())"
   ]
  },
  {
   "cell_type": "code",
   "execution_count": 15,
   "id": "36310244",
   "metadata": {},
   "outputs": [
    {
     "name": "stdout",
     "output_type": "stream",
     "text": [
      "Current balance: 91905.0\n"
     ]
    }
   ],
   "source": [
    "account_1.withdraw(2000.0)\n",
    "print(\"Current balance:\", account_1.check_balance())\n",
    "     "
   ]
  },
  {
   "cell_type": "code",
   "execution_count": null,
   "id": "a6593fcd",
   "metadata": {},
   "outputs": [],
   "source": []
  },
  {
   "cell_type": "code",
   "execution_count": null,
   "id": "cdb70f16",
   "metadata": {},
   "outputs": [],
   "source": []
  }
 ],
 "metadata": {
  "kernelspec": {
   "display_name": "Python 3 (ipykernel)",
   "language": "python",
   "name": "python3"
  },
  "language_info": {
   "codemirror_mode": {
    "name": "ipython",
    "version": 3
   },
   "file_extension": ".py",
   "mimetype": "text/x-python",
   "name": "python",
   "nbconvert_exporter": "python",
   "pygments_lexer": "ipython3",
   "version": "3.9.12"
  }
 },
 "nbformat": 4,
 "nbformat_minor": 5
}
